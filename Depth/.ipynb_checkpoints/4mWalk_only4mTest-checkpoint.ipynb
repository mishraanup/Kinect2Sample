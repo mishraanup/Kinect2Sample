{
 "cells": [
  {
   "cell_type": "code",
   "execution_count": 43,
   "metadata": {
    "collapsed": false
   },
   "outputs": [
    {
     "name": "stderr",
     "output_type": "stream",
     "text": [
      "C:\\ProgramData\\Anaconda2\\lib\\site-packages\\ipykernel\\__main__.py:143: SettingWithCopyWarning: \n",
      "A value is trying to be set on a copy of a slice from a DataFrame.\n",
      "Try using .loc[row_indexer,col_indexer] = value instead\n",
      "\n",
      "See the caveats in the documentation: http://pandas.pydata.org/pandas-docs/stable/indexing.html#indexing-view-versus-copy\n",
      "C:\\ProgramData\\Anaconda2\\lib\\site-packages\\ipykernel\\__main__.py:144: SettingWithCopyWarning: \n",
      "A value is trying to be set on a copy of a slice from a DataFrame.\n",
      "Try using .loc[row_indexer,col_indexer] = value instead\n",
      "\n",
      "See the caveats in the documentation: http://pandas.pydata.org/pandas-docs/stable/indexing.html#indexing-view-versus-copy\n"
     ]
    },
    {
     "data": {
      "image/png": "[encoded data removed]",
      "text/plain": [
       "<matplotlib.figure.Figure at 0xab1ecc0>"
      ]
     },
     "metadata": {},
     "output_type": "display_data"
    },
    {
     "data": {
      "image/png": "[encoded data removed]",
      "text/plain": [
       "<matplotlib.figure.Figure at 0xad28cc0>"
      ]
     },
     "metadata": {},
     "output_type": "display_data"
    },
    {
     "name": "stderr",
     "output_type": "stream",
     "text": [
      "C:\\ProgramData\\Anaconda2\\lib\\site-packages\\ipykernel\\__main__.py:175: VisibleDeprecationWarning: using a non-integer number instead of an integer will result in an error in the future\n"
     ]
    }
   ],
   "source": [
    "import pandas as pd\n",
    "import matplotlib.pyplot as plt\n",
    "import numpy as np\n",
    "import sys\n",
    "import math as m\n",
    "import csv\n",
    "from numpy import linspace, loadtxt, ones, convolve, NaN, Inf, arange, isscalar, asarray, array\n",
    "from __future__ import division\n",
    "\n",
    "#Moving Mean\n",
    "def movingaverage(interval, window_size):\n",
    "    window = np.ones(int(window_size))/float(window_size)\n",
    "    return np.convolve(interval, window, 'same')\n",
    "\n",
    "#Peak detect\n",
    "def peakdet(v, delta, x = None):\n",
    "    \"\"\"\n",
    "    Converted from MATLAB script at http://billauer.co.il/peakdet.html\n",
    "    \n",
    "    Returns two arrays\n",
    "    \n",
    "    function [maxtab, mintab]=peakdet(v, delta, x)\n",
    "    %PEAKDET Detect peaks in a vector\n",
    "    %        [MAXTAB, MINTAB] = PEAKDET(V, DELTA) finds the local\n",
    "    %        maxima and minima (\"peaks\") in the vector V.\n",
    "    %        MAXTAB and MINTAB consists of two columns. Column 1\n",
    "    %        contains indices in V, and column 2 the found values.\n",
    "    %      \n",
    "    %        With [MAXTAB, MINTAB] = PEAKDET(V, DELTA, X) the indices\n",
    "    %        in MAXTAB and MINTAB are replaced with the corresponding\n",
    "    %        X-values.\n",
    "    %\n",
    "    %        A point is considered a maximum peak if it has the maximal\n",
    "    %        value, and was preceded (to the left) by a value lower by\n",
    "    %        DELTA.\n",
    "    \n",
    "    % Eli Billauer, 3.4.05 (Explicitly not copyrighted).\n",
    "    % This function is released to the public domain; Any use is allowed.\n",
    "    \n",
    "    \"\"\"\n",
    "    maxtab = []\n",
    "    mintab = []\n",
    "       \n",
    "    if x is None:\n",
    "        x = arange(len(v))\n",
    "    \n",
    "    v = asarray(v)\n",
    "    \n",
    "    if len(v) != len(x):\n",
    "        sys.exit('Input vectors v and x must have same length')\n",
    "    \n",
    "    if not isscalar(delta):\n",
    "        sys.exit('Input argument delta must be a scalar')\n",
    "    \n",
    "    if delta <= 0:\n",
    "        sys.exit('Input argument delta must be positive')\n",
    "    \n",
    "    mn, mx = Inf, -Inf\n",
    "    mnpos, mxpos = NaN, NaN\n",
    "    \n",
    "    lookformax = True\n",
    "    \n",
    "    for i in arange(len(v)):\n",
    "        this = v[i]\n",
    "        if this > mx:\n",
    "            mx = this\n",
    "            mxpos = x[i]\n",
    "        if this < mn:\n",
    "            mn = this\n",
    "            mnpos = x[i]\n",
    "        \n",
    "        if lookformax:\n",
    "            if this < mx-delta:\n",
    "                maxtab.append((mxpos, mx))\n",
    "                mn = this\n",
    "                mnpos = x[i]\n",
    "                lookformax = False\n",
    "        else:\n",
    "            if this > mn+delta:\n",
    "                mintab.append((mnpos, mn))\n",
    "                mx = this\n",
    "                mxpos = x[i]\n",
    "                lookformax = True\n",
    "\n",
    "    return array(maxtab), array(mintab)\n",
    "\n",
    "#trial = \"9\"\n",
    "path = \"C:\\\\Users\\\\Shradha Shalini\\\\Documents\\\\PT_Data_Collection\\\\Subject_test\\\\091317\\\\26_FourMeterWalkStandStill\\\\6\"\n",
    "#path = \"C:\\\\Users\\\\Shradha Shalini\\\\Documents\\\\Kinect2Sample-master\\\\sample\\\\build2\\\\Depth\\\\\"+trial\n",
    "#C:\\Users\\Shradha Shalini\\Documents\\Kinect2Sample-master\\sample\\build2\\Depth\\9\n",
    "\n",
    "\n",
    "#Get and process centroid\n",
    "centroid_data=pd.read_csv(path+\"\\\\centroids.csv\")\n",
    "centroids = centroid_data;\n",
    "centroids.columns = ['x','y','z']\n",
    "\n",
    "#Get and process time\n",
    "centroid_time=pd.read_csv(path+\"\\\\centroids_time.csv\")\n",
    "centroid_time.columns = ['hour','min','sec','milis']\n",
    "\n",
    "if type(centroids['z'][0]) == str:\n",
    "    #Select the right length of time for 4 meters\n",
    "    centroid_time = centroid_time.loc[(centroids['z'] <= '6') & (centroids['z'] >= '2')]\n",
    "\n",
    "    #Select centroids with in 4 meters of interest\n",
    "    centroids = centroids.loc[(centroids['z'] <= '6') & (centroids['z'] >= '2')]\n",
    "else:\n",
    "    #Select the right length of time for 4 meters\n",
    "    centroid_time = centroid_time.loc[(centroids['z'] <= 6) & (centroids['z'] >= 2)]\n",
    "\n",
    "    #Select centroids with in 4 meters of interest\n",
    "    centroids = centroids.loc[(centroids['z'] <= 6) & (centroids['z'] >= 2)]\n",
    "\n",
    "#plt.plot(centroids['z'], centroids['x'])\n",
    "#plt.show()\n",
    "\n",
    "##Get the time series time data\n",
    "time=[]\n",
    "for i in centroids.index:\n",
    "    time.append((centroid_time.ix[i,'min'])*60+(centroid_time.ix[i,'sec'])+centroid_time.ix[i,'milis']*0.001)\n",
    "time= time-time[0]\n",
    "\n",
    "#Get all foot prints\n",
    "F=[]\n",
    "for i in centroids.index:\n",
    "    string=path\n",
    "    string+=\"\\\\\"+str(i)+\".csv\"\n",
    "    F.append(pd.read_csv(string, skiprows=[0]))\n",
    "\n",
    "\n",
    "corr=[]\n",
    "for i in range(0, len(centroids['x']), 1):\n",
    "    ##Convert to inches\n",
    "    steps =F[i]*39.3701;\n",
    "    steps.columns=['x','y','z']\n",
    "    steps['z']= steps['z']*-1\n",
    "    \n",
    "    ##Find Mean of data\n",
    "    steps['x']=steps['x']-steps['x'].mean()\n",
    "    steps['z']=steps['z']-steps['z'].mean()\n",
    "    Foot = steps[['x','z']]\n",
    "\n",
    "    \n",
    "    newArray = pd.DataFrame([[0, 0]], columns=list('xz'))\n",
    "    counter=0;\n",
    "\n",
    "    newArray= Foot.loc[abs(Foot['x'])<25,:]\n",
    "                \n",
    "    newArray['x']=newArray['x']-newArray['x'].mean()\n",
    "    newArray['z']=newArray['z']-newArray['z'].mean()\n",
    "\n",
    "    ##Find correlation\n",
    "    M = newArray['x']*newArray['z']\n",
    "    try:\n",
    "        corr.append(sum(M)/len(newArray)) \n",
    "    except ZeroDivisionError:\n",
    "        corr.append(0) \n",
    "    \n",
    "corr_av= movingaverage(corr, 8)\n",
    "corr_av= movingaverage(corr_av, 7)\n",
    "plt.plot(corr,'r--',corr_av,'g^')\n",
    "plt.show()\n",
    "\n",
    "maxtab_wt, mintab_wt = peakdet(corr_av,1)\n",
    "plt.plot(corr_av)\n",
    "plt.scatter(array(maxtab_wt)[:,0], array(maxtab_wt)[:,1], color='blue')\n",
    "plt.scatter(array(mintab_wt)[:,0], array(mintab_wt)[:,1], color='red')\n",
    "plt.show()\n",
    "\n",
    "#Start end frames for time\n",
    "if(maxtab_wt[0][0]<mintab_wt[0][0]):\n",
    "    time_start=maxtab_wt[0][0];\n",
    "else:\n",
    "    time_start=mintab_wt[0][0];\n",
    "    \n",
    "if(maxtab_wt[len(maxtab_wt)-1][0]>mintab_wt[len(mintab_wt)-1][0]):\n",
    "    time_end=maxtab_wt[len(maxtab_wt)-1][0];\n",
    "else:\n",
    "    time_end=mintab_wt[len(mintab_wt)-1][0];\n",
    "    \n",
    "time_walk= time[time_start:time_end];\n",
    "\n",
    "\n",
    "#For number of steps see if the first point is a hight point or last point a high point. They should not be considered.\n",
    "noSteps = 0\n",
    "if maxtab_wt[0][0]==0.0:\n",
    "    noSteps += 1\n",
    "if mintab_wt[-1][0]==len(corr_av):\n",
    "    noSteps += 1\n",
    "    \n",
    "timeOfCompletion = time_walk[len(time_walk)-1]-time_walk[0]\n",
    "numberOfSteps = len(maxtab_wt)+len(mintab_wt)-noSteps\n",
    "gait_speed = 4.0/timeOfCompletion\n",
    "avg_step_length = 4.0/numberOfSteps\n",
    "cadance = numberOfSteps/4\n",
    "\n",
    "#output\n",
    "with open('FourMWalkResultsPython.csv', 'w') as csvfile:\n",
    "    fieldnames = ['timeOfCompletion(s)', 'numberOfSteps','gait_speed(m/s)','avg_step_length(m)','cadance']\n",
    "    writer = csv.DictWriter(csvfile, fieldnames=fieldnames)\n",
    "\n",
    "    writer.writeheader()\n",
    "    writer.writerow({ 'timeOfCompletion(s)': timeOfCompletion, 'numberOfSteps':numberOfSteps, 'gait_speed(m/s)': gait_speed, 'avg_step_length(m)':avg_step_length, 'cadance':cadance})\n",
    "\n"
   ]
  },
  {
   "cell_type": "code",
   "execution_count": 41,
   "metadata": {
    "collapsed": false
   },
   "outputs": [
    {
     "data": {
      "text/html": [
       "<div>\n",
       "<table border=\"1\" class=\"dataframe\">\n",
       "  <thead>\n",
       "    <tr style=\"text-align: right;\">\n",
       "      <th></th>\n",
       "      <th>x</th>\n",
       "      <th>y</th>\n",
       "      <th>z</th>\n",
       "    </tr>\n",
       "  </thead>\n",
       "  <tbody>\n",
       "  </tbody>\n",
       "</table>\n",
       "</div>"
      ],
      "text/plain": [
       "Empty DataFrame\n",
       "Columns: [x, y, z]\n",
       "Index: []"
      ]
     },
     "execution_count": 41,
     "metadata": {},
     "output_type": "execute_result"
    }
   ],
   "source": [
    "centroids"
   ]
  },
  {
   "cell_type": "code",
   "execution_count": 42,
   "metadata": {
    "collapsed": false
   },
   "outputs": [
    {
     "data": {
      "text/html": [
       "<div>\n",
       "<table border=\"1\" class=\"dataframe\">\n",
       "  <thead>\n",
       "    <tr style=\"text-align: right;\">\n",
       "      <th></th>\n",
       "      <th>hour</th>\n",
       "      <th>min</th>\n",
       "      <th>sec</th>\n",
       "      <th>milis</th>\n",
       "    </tr>\n",
       "  </thead>\n",
       "  <tbody>\n",
       "  </tbody>\n",
       "</table>\n",
       "</div>"
      ],
      "text/plain": [
       "Empty DataFrame\n",
       "Columns: [hour, min, sec, milis]\n",
       "Index: []"
      ]
     },
     "execution_count": 42,
     "metadata": {},
     "output_type": "execute_result"
    }
   ],
   "source": [
    "centroid_time"
   ]
  },
  {
   "cell_type": "code",
   "execution_count": 48,
   "metadata": {
    "collapsed": false
   },
   "outputs": [
    {
     "data": {
      "text/plain": [
       "type"
      ]
     },
     "execution_count": 48,
     "metadata": {},
     "output_type": "execute_result"
    }
   ],
   "source": [
    "type(type(centroids['z'][18]))"
   ]
  },
  {
   "cell_type": "code",
   "execution_count": null,
   "metadata": {
    "collapsed": true
   },
   "outputs": [],
   "source": []
  }
 ],
 "metadata": {
  "kernelspec": {
   "display_name": "Python 2",
   "language": "python",
   "name": "python2"
  },
  "language_info": {
   "codemirror_mode": {
    "name": "ipython",
    "version": 2
   },
   "file_extension": ".py",
   "mimetype": "text/x-python",
   "name": "python",
   "nbconvert_exporter": "python",
   "pygments_lexer": "ipython2",
   "version": "2.7.13"
  }
 },
 "nbformat": 4,
 "nbformat_minor": 2
}
